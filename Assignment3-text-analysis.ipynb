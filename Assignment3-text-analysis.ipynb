{
 "cells": [
  {
   "cell_type": "markdown",
   "metadata": {},
   "source": [
    "# Assignment 3 - Text Analysis\n",
    "An explanation this assignment could be found in the .pdf explanation document"
   ]
  },
  {
   "cell_type": "markdown",
   "metadata": {},
   "source": [
    "\n",
    "## Materials to review for this assignment\n",
    "<h4>From Moodle:</h4> \n",
    "<h5><u>Review the notebooks regarding the following python topics</u>:</h5>\n",
    "<div class=\"alert alert-info\">\n",
    "&#x2714; <b>Working with strings</b> (tutorial notebook)<br/>\n",
    "&#x2714; <b>Text Analysis</b> (tutorial notebook)<br/>\n",
    "&#x2714; <b>Hebrew text analysis tools (tokenizer, wordnet)</b> (moodle example)<br/>\n",
    "&#x2714; <b>(brief review) All previous notebooks</b><br/>\n",
    "</div> \n",
    "<h5><u>Review the presentations regarding the following topics</u>:</h5>\n",
    "<div class=\"alert alert-info\">\n",
    "&#x2714; <b>Text Analysis</b> (lecture presentation)<br/>\n",
    "&#x2714; <b>(brief review) All other presentations</b><br/>\n",
    "</div>"
   ]
  },
  {
   "cell_type": "markdown",
   "metadata": {},
   "source": [
    "## Personal Details:"
   ]
  },
  {
   "cell_type": "code",
   "execution_count": 3,
   "metadata": {},
   "outputs": [
    {
     "name": "stdout",
     "output_type": "stream",
     "text": [
      "Full Name:\n",
      "Sahar Yehezkel Poor\n",
      "\n",
      "ID:\n",
      "318193372\n",
      "\n",
      ":)\n"
     ]
    }
   ],
   "source": [
    "# Details Student 1:\n",
    "# Sahar Yehezkel Poor\n",
    "# 318193372\n",
    "print(\"Full Name:\\nSahar Yehezkel Poor\\n\\nID:\\n318193372\\n\\n:)\")\n"
   ]
  },
  {
   "cell_type": "markdown",
   "metadata": {},
   "source": [
    "## Preceding Step - import modules (packages)\n",
    "This step is necessary in order to use external modules (packages). <br/>"
   ]
  },
  {
   "cell_type": "code",
   "execution_count": 4,
   "metadata": {},
   "outputs": [],
   "source": [
    "# --------------------------------------\n",
    "import pandas as pd\n",
    "import numpy as np\n",
    "# --------------------------------------\n",
    "\n",
    "\n",
    "# --------------------------------------\n",
    "# ------------- visualizations:\n",
    "import seaborn as sns\n",
    "import matplotlib.pyplot as plt\n",
    "from matplotlib.colors import ListedColormap\n",
    "# --------------------------------------\n",
    "\n",
    "\n",
    "# ---------------------------------------\n",
    "import sklearn\n",
    "from sklearn import preprocessing, metrics, pipeline, model_selection, feature_extraction \n",
    "from sklearn import naive_bayes, linear_model, svm, neural_network, neighbors, tree\n",
    "from sklearn import decomposition, cluster\n",
    "\n",
    "from sklearn.model_selection import train_test_split, cross_val_score, GridSearchCV \n",
    "from sklearn.pipeline import Pipeline\n",
    "from sklearn.metrics import accuracy_score, confusion_matrix\n",
    "from sklearn.metrics import precision_score, recall_score, f1_score\n",
    "from sklearn.metrics import mean_squared_error, r2_score, silhouette_score\n",
    "from sklearn.preprocessing import MinMaxScaler, StandardScaler, LabelEncoder\n",
    "\n",
    "from sklearn.svm import LinearSVC\n",
    "from sklearn.neural_network import MLPClassifier\n",
    "from sklearn.linear_model import Perceptron, SGDClassifier\n",
    "from sklearn.decomposition import PCA\n",
    "from sklearn.cluster import KMeans\n",
    "from sklearn.naive_bayes import MultinomialNB, GaussianNB\n",
    "from sklearn.neighbors import KNeighborsClassifier\n",
    "from sklearn.tree import DecisionTreeClassifier\n",
    "# ---------------------------------------\n",
    "\n",
    "\n",
    "# ----------------- output and visualizations: \n",
    "import warnings\n",
    "from sklearn.exceptions import ConvergenceWarning\n",
    "warnings.simplefilter(\"ignore\")\n",
    "warnings.simplefilter(action='ignore', category=FutureWarning)\n",
    "warnings.simplefilter(\"ignore\", category=ConvergenceWarning)\n",
    "# show several prints in one cell. This will allow us to condence every trick in one cell.\n",
    "from IPython.core.interactiveshell import InteractiveShell\n",
    "InteractiveShell.ast_node_interactivity = \"all\"\n",
    "%matplotlib inline\n",
    "pd.pandas.set_option('display.max_columns', None)\n",
    "pd.set_option('display.float_format', lambda x: '%.3f' % x)\n",
    "# ---------------------------------------"
   ]
  },
  {
   "cell_type": "markdown",
   "metadata": {},
   "source": [
    "### Text analysis and String manipulation imports:"
   ]
  },
  {
   "cell_type": "code",
   "execution_count": 5,
   "metadata": {},
   "outputs": [],
   "source": [
    "# --------------------------------------\n",
    "# --------- Text analysis and Hebrew text analysis imports:\n",
    "# vectorizers:\n",
    "from sklearn.feature_extraction import text\n",
    "from sklearn.feature_extraction.text import CountVectorizer, TfidfVectorizer\n",
    "\n",
    "# regular expressions:\n",
    "import re\n",
    "# --------------------------------------"
   ]
  },
  {
   "cell_type": "markdown",
   "metadata": {},
   "source": [
    "### (optional) Hebrew text analysis - WordNet (for Hebrew)\n",
    "Note: the WordNet is not a must"
   ]
  },
  {
   "cell_type": "markdown",
   "metadata": {},
   "source": [
    "#### (optional) Only if you didn't install Wordnet (for Hebrew) use:"
   ]
  },
  {
   "cell_type": "code",
   "execution_count": null,
   "metadata": {},
   "outputs": [],
   "source": [
    "# word net installation:\n",
    "\n",
    "# unmark if you want to use and need to install\n",
    "!pip install wn\n",
    "!python -m wn download omw-he:1.4"
   ]
  },
  {
   "cell_type": "code",
   "execution_count": 6,
   "metadata": {},
   "outputs": [],
   "source": [
    "# word net import:\n",
    "\n",
    "# unmark if you want to use:\n",
    "import wn"
   ]
  },
  {
   "cell_type": "markdown",
   "metadata": {},
   "source": [
    "### (optional) Hebrew text analysis - hebrew_tokenizer (Tokenizer for Hebrew)\n",
    "Note: the hebrew_tokenizer is not a must"
   ]
  },
  {
   "cell_type": "markdown",
   "metadata": {},
   "source": [
    "#### (optional) Only if you didn't install hebrew_tokenizer use:"
   ]
  },
  {
   "cell_type": "code",
   "execution_count": 6,
   "metadata": {},
   "outputs": [
    {
     "name": "stdout",
     "output_type": "stream",
     "text": [
      "Requirement already satisfied: hebrew_tokenizer in c:\\users\\moking\\anaconda3\\lib\\site-packages (2.3.0)\n"
     ]
    }
   ],
   "source": [
    "# Hebrew tokenizer installation:\n",
    "\n",
    "# unmark if you want to use and need to install:\n",
    "!pip install hebrew_tokenizer"
   ]
  },
  {
   "cell_type": "code",
   "execution_count": 7,
   "metadata": {},
   "outputs": [
    {
     "name": "stdout",
     "output_type": "stream",
     "text": [
      "C:\\Users\\Moking\\Downloads\\assignment3-text_analysis\\assignment3-text_analysis\n"
     ]
    }
   ],
   "source": [
    "# Hebrew tokenizer import:\n",
    "\n",
    "# unmark if you want to use:\n",
    "import hebrew_tokenizer as ht"
   ]
  },
  {
   "cell_type": "markdown",
   "metadata": {},
   "source": [
    "### Reading input files\n",
    "Reading input files for train annotated corpus (raw text data) corpus and for the test corpus"
   ]
  },
  {
   "cell_type": "code",
   "execution_count": 18,
   "metadata": {},
   "outputs": [],
   "source": [
    "train_filename = 'annotated_corpus_for_train.csv'\n",
    "test_filename  = 'corpus_for_test.csv'\n",
    "df_train = pd.read_csv(train_filename, index_col=None, encoding='utf-8')\n",
    "df_test  = pd.read_csv(test_filename, index_col=None, encoding='utf-8')"
   ]
  },
  {
   "cell_type": "code",
   "execution_count": 19,
   "metadata": {},
   "outputs": [
    {
     "data": {
      "text/html": [
       "<div>\n",
       "<style scoped>\n",
       "    .dataframe tbody tr th:only-of-type {\n",
       "        vertical-align: middle;\n",
       "    }\n",
       "\n",
       "    .dataframe tbody tr th {\n",
       "        vertical-align: top;\n",
       "    }\n",
       "\n",
       "    .dataframe thead th {\n",
       "        text-align: right;\n",
       "    }\n",
       "</style>\n",
       "<table border=\"1\" class=\"dataframe\">\n",
       "  <thead>\n",
       "    <tr style=\"text-align: right;\">\n",
       "      <th></th>\n",
       "      <th>story</th>\n",
       "      <th>gender</th>\n",
       "    </tr>\n",
       "  </thead>\n",
       "  <tbody>\n",
       "    <tr>\n",
       "      <th>0</th>\n",
       "      <td>כשחבר הזמין אותי לחול, לא באמת חשבתי שזה יקרה,...</td>\n",
       "      <td>m</td>\n",
       "    </tr>\n",
       "    <tr>\n",
       "      <th>1</th>\n",
       "      <td>לפני שהתגייסתי לצבא עשיתי כל מני מיונים ליחידו...</td>\n",
       "      <td>m</td>\n",
       "    </tr>\n",
       "    <tr>\n",
       "      <th>2</th>\n",
       "      <td>מאז שהתחילו הלימודים חלומו של כל סטודנט זה הפנ...</td>\n",
       "      <td>f</td>\n",
       "    </tr>\n",
       "    <tr>\n",
       "      <th>3</th>\n",
       "      <td>כשהייתי ילד, מטוסים היה הדבר שהכי ריתק אותי. ב...</td>\n",
       "      <td>m</td>\n",
       "    </tr>\n",
       "    <tr>\n",
       "      <th>4</th>\n",
       "      <td>‏הייתי מדריכה בכפר נוער ומתאם הכפר היינו צריכי...</td>\n",
       "      <td>f</td>\n",
       "    </tr>\n",
       "    <tr>\n",
       "      <th>5</th>\n",
       "      <td>לפני כ3 חודשים טסתי לרומא למשך שבוע. טסתי במטו...</td>\n",
       "      <td>f</td>\n",
       "    </tr>\n",
       "    <tr>\n",
       "      <th>6</th>\n",
       "      <td>אני כבר שנתיים נשוי והשנה אני ואישתי סוף סוף י...</td>\n",
       "      <td>m</td>\n",
       "    </tr>\n",
       "    <tr>\n",
       "      <th>7</th>\n",
       "      <td>השנה התחלנו שיפוץ בדירה שלנו בתל אביב. הדירה ה...</td>\n",
       "      <td>f</td>\n",
       "    </tr>\n",
       "  </tbody>\n",
       "</table>\n",
       "</div>"
      ],
      "text/plain": [
       "                                               story gender\n",
       "0  כשחבר הזמין אותי לחול, לא באמת חשבתי שזה יקרה,...      m\n",
       "1  לפני שהתגייסתי לצבא עשיתי כל מני מיונים ליחידו...      m\n",
       "2  מאז שהתחילו הלימודים חלומו של כל סטודנט זה הפנ...      f\n",
       "3  כשהייתי ילד, מטוסים היה הדבר שהכי ריתק אותי. ב...      m\n",
       "4  ‏הייתי מדריכה בכפר נוער ומתאם הכפר היינו צריכי...      f\n",
       "5  לפני כ3 חודשים טסתי לרומא למשך שבוע. טסתי במטו...      f\n",
       "6  אני כבר שנתיים נשוי והשנה אני ואישתי סוף סוף י...      m\n",
       "7  השנה התחלנו שיפוץ בדירה שלנו בתל אביב. הדירה ה...      f"
      ]
     },
     "execution_count": 19,
     "metadata": {},
     "output_type": "execute_result"
    },
    {
     "data": {
      "text/plain": [
       "(753, 2)"
      ]
     },
     "execution_count": 19,
     "metadata": {},
     "output_type": "execute_result"
    }
   ],
   "source": [
    "df_train.head(8)\n",
    "df_train.shape"
   ]
  },
  {
   "cell_type": "code",
   "execution_count": 20,
   "metadata": {},
   "outputs": [
    {
     "data": {
      "text/html": [
       "<div>\n",
       "<style scoped>\n",
       "    .dataframe tbody tr th:only-of-type {\n",
       "        vertical-align: middle;\n",
       "    }\n",
       "\n",
       "    .dataframe tbody tr th {\n",
       "        vertical-align: top;\n",
       "    }\n",
       "\n",
       "    .dataframe thead th {\n",
       "        text-align: right;\n",
       "    }\n",
       "</style>\n",
       "<table border=\"1\" class=\"dataframe\">\n",
       "  <thead>\n",
       "    <tr style=\"text-align: right;\">\n",
       "      <th></th>\n",
       "      <th>test_example_id</th>\n",
       "      <th>story</th>\n",
       "    </tr>\n",
       "  </thead>\n",
       "  <tbody>\n",
       "    <tr>\n",
       "      <th>0</th>\n",
       "      <td>0</td>\n",
       "      <td>כל קיץ אני והמשפחה נוסעים לארצות הברית לוס אנג...</td>\n",
       "    </tr>\n",
       "    <tr>\n",
       "      <th>1</th>\n",
       "      <td>1</td>\n",
       "      <td>הגעתי לשירות המדינה אחרי שנתיים כפעיל בתנועת \"...</td>\n",
       "    </tr>\n",
       "    <tr>\n",
       "      <th>2</th>\n",
       "      <td>2</td>\n",
       "      <td>אחת האהבות הגדולות שלי אלו הכלבים שלי ושל אישת...</td>\n",
       "    </tr>\n",
       "  </tbody>\n",
       "</table>\n",
       "</div>"
      ],
      "text/plain": [
       "   test_example_id                                              story\n",
       "0                0  כל קיץ אני והמשפחה נוסעים לארצות הברית לוס אנג...\n",
       "1                1  הגעתי לשירות המדינה אחרי שנתיים כפעיל בתנועת \"...\n",
       "2                2  אחת האהבות הגדולות שלי אלו הכלבים שלי ושל אישת..."
      ]
     },
     "execution_count": 20,
     "metadata": {},
     "output_type": "execute_result"
    },
    {
     "data": {
      "text/plain": [
       "(323, 2)"
      ]
     },
     "execution_count": 20,
     "metadata": {},
     "output_type": "execute_result"
    }
   ],
   "source": [
    "df_test.head(3)\n",
    "df_test.shape"
   ]
  },
  {
   "cell_type": "markdown",
   "metadata": {},
   "source": [
    "### Your implementation:\n",
    "Write your code solution in the following code-cells"
   ]
  },
  {
   "cell_type": "code",
   "execution_count": 21,
   "metadata": {
    "scrolled": true
   },
   "outputs": [],
   "source": [
    "# Lets clean the text... (preprocessing)\n",
    "# This cell will clean the text by the steps:\n",
    "# 1. Take every story from all the stories (df['story']) then split every word and charactar to token.\n",
    "# 2. Hebrew_tokenizer - return the type of the token, the token itself and more few non relevant types.\n",
    "# 3. We will check for every token if his type is HEBREW and if it is -> join the token for all the current hebrew\n",
    "#    tokens for the current story.\n",
    "# 4. We will create a string object of the story by using ( \" \".join... ).\n",
    "# 5. Join the cleaned text story to new list of all_stories (All stories are clean!)\n",
    "# 6. Replace the feature 'story' with the cleaned text.\n",
    "\n",
    "\n",
    "all_stories = []\n",
    "for story in df_train['story']:\n",
    "    tokens = ht.tokenize(story)\n",
    "    hebrew_tokens = [token for grp, token, _, _ in tokens if grp == 'HEBREW']\n",
    "    curr_story = ' '.join(hebrew_tokens)\n",
    "    all_stories.append(curr_story)\n",
    "\n",
    "df_train['story'] = all_stories"
   ]
  },
  {
   "cell_type": "code",
   "execution_count": 22,
   "metadata": {},
   "outputs": [],
   "source": [
    "# Because you don't give us the test answers i need to be creative and find a solution to know if my model is accurate! :D\n",
    "# Let's split the df for 90% train and 10% test.\n",
    "\n",
    "X_train, X_test, y_train, y_test = train_test_split(df_train['story'], df_train['gender'], test_size=0.15, random_state=42, shuffle=True)"
   ]
  },
  {
   "cell_type": "code",
   "execution_count": 23,
   "metadata": {
    "scrolled": false
   },
   "outputs": [
    {
     "data": {
      "text/plain": [
       "KNeighborsClassifier(algorithm='auto', leaf_size=30, metric='minkowski',\n",
       "                     metric_params=None, n_jobs=None, n_neighbors=5, p=2,\n",
       "                     weights='uniform')"
      ]
     },
     "execution_count": 23,
     "metadata": {},
     "output_type": "execute_result"
    },
    {
     "name": "stdout",
     "output_type": "stream",
     "text": [
      "\n",
      "\n",
      "\n",
      "TFIDF_Vectorizer + KNN(K=5):\n"
     ]
    },
    {
     "data": {
      "text/html": [
       "<div>\n",
       "<style scoped>\n",
       "    .dataframe tbody tr th:only-of-type {\n",
       "        vertical-align: middle;\n",
       "    }\n",
       "\n",
       "    .dataframe tbody tr th {\n",
       "        vertical-align: top;\n",
       "    }\n",
       "\n",
       "    .dataframe thead th {\n",
       "        text-align: right;\n",
       "    }\n",
       "</style>\n",
       "<table border=\"1\" class=\"dataframe\">\n",
       "  <thead>\n",
       "    <tr style=\"text-align: right;\">\n",
       "      <th></th>\n",
       "      <th>story</th>\n",
       "      <th>pred</th>\n",
       "      <th>actual</th>\n",
       "    </tr>\n",
       "  </thead>\n",
       "  <tbody>\n",
       "    <tr>\n",
       "      <th>716</th>\n",
       "      <td>יום אחד במהלך חופשת חנוכה הלכנו כמה חברים לשחק...</td>\n",
       "      <td>m</td>\n",
       "      <td>m</td>\n",
       "    </tr>\n",
       "    <tr>\n",
       "      <th>651</th>\n",
       "      <td>לפני כחצי שנה עברתי לגור בצפון עם בת זוגתי עבר...</td>\n",
       "      <td>m</td>\n",
       "      <td>m</td>\n",
       "    </tr>\n",
       "    <tr>\n",
       "      <th>371</th>\n",
       "      <td>כשהתחילה הקורונה הלימודים עברו להיות רק בזום כ...</td>\n",
       "      <td>m</td>\n",
       "      <td>f</td>\n",
       "    </tr>\n",
       "    <tr>\n",
       "      <th>77</th>\n",
       "      <td>בשנה האחרונה עברתי דירה לעיר שיש בה ים כל חיי ...</td>\n",
       "      <td>m</td>\n",
       "      <td>f</td>\n",
       "    </tr>\n",
       "    <tr>\n",
       "      <th>212</th>\n",
       "      <td>לפני חצי שנה הייתי באיטליה עם המשפחה שלי זאת ה...</td>\n",
       "      <td>m</td>\n",
       "      <td>f</td>\n",
       "    </tr>\n",
       "  </tbody>\n",
       "</table>\n",
       "</div>"
      ],
      "text/plain": [
       "                                                 story pred actual\n",
       "716  יום אחד במהלך חופשת חנוכה הלכנו כמה חברים לשחק...    m      m\n",
       "651  לפני כחצי שנה עברתי לגור בצפון עם בת זוגתי עבר...    m      m\n",
       "371  כשהתחילה הקורונה הלימודים עברו להיות רק בזום כ...    m      f\n",
       "77   בשנה האחרונה עברתי דירה לעיר שיש בה ים כל חיי ...    m      f\n",
       "212  לפני חצי שנה הייתי באיטליה עם המשפחה שלי זאת ה...    m      f"
      ]
     },
     "execution_count": 23,
     "metadata": {},
     "output_type": "execute_result"
    },
    {
     "name": "stdout",
     "output_type": "stream",
     "text": [
      "Weighted F1-score for TFIDF_Vectorizer: 0.72\n"
     ]
    },
    {
     "data": {
      "text/plain": [
       "KNeighborsClassifier(algorithm='auto', leaf_size=30, metric='minkowski',\n",
       "                     metric_params=None, n_jobs=None, n_neighbors=5, p=2,\n",
       "                     weights='uniform')"
      ]
     },
     "execution_count": 23,
     "metadata": {},
     "output_type": "execute_result"
    },
    {
     "name": "stdout",
     "output_type": "stream",
     "text": [
      "\n",
      "\n",
      "\n",
      "CountVectorizer + KNN(K=5):\n"
     ]
    },
    {
     "data": {
      "text/html": [
       "<div>\n",
       "<style scoped>\n",
       "    .dataframe tbody tr th:only-of-type {\n",
       "        vertical-align: middle;\n",
       "    }\n",
       "\n",
       "    .dataframe tbody tr th {\n",
       "        vertical-align: top;\n",
       "    }\n",
       "\n",
       "    .dataframe thead th {\n",
       "        text-align: right;\n",
       "    }\n",
       "</style>\n",
       "<table border=\"1\" class=\"dataframe\">\n",
       "  <thead>\n",
       "    <tr style=\"text-align: right;\">\n",
       "      <th></th>\n",
       "      <th>story</th>\n",
       "      <th>pred</th>\n",
       "      <th>actual</th>\n",
       "    </tr>\n",
       "  </thead>\n",
       "  <tbody>\n",
       "    <tr>\n",
       "      <th>716</th>\n",
       "      <td>יום אחד במהלך חופשת חנוכה הלכנו כמה חברים לשחק...</td>\n",
       "      <td>m</td>\n",
       "      <td>m</td>\n",
       "    </tr>\n",
       "    <tr>\n",
       "      <th>651</th>\n",
       "      <td>לפני כחצי שנה עברתי לגור בצפון עם בת זוגתי עבר...</td>\n",
       "      <td>m</td>\n",
       "      <td>m</td>\n",
       "    </tr>\n",
       "    <tr>\n",
       "      <th>371</th>\n",
       "      <td>כשהתחילה הקורונה הלימודים עברו להיות רק בזום כ...</td>\n",
       "      <td>m</td>\n",
       "      <td>f</td>\n",
       "    </tr>\n",
       "    <tr>\n",
       "      <th>77</th>\n",
       "      <td>בשנה האחרונה עברתי דירה לעיר שיש בה ים כל חיי ...</td>\n",
       "      <td>m</td>\n",
       "      <td>f</td>\n",
       "    </tr>\n",
       "    <tr>\n",
       "      <th>212</th>\n",
       "      <td>לפני חצי שנה הייתי באיטליה עם המשפחה שלי זאת ה...</td>\n",
       "      <td>m</td>\n",
       "      <td>f</td>\n",
       "    </tr>\n",
       "  </tbody>\n",
       "</table>\n",
       "</div>"
      ],
      "text/plain": [
       "                                                 story pred actual\n",
       "716  יום אחד במהלך חופשת חנוכה הלכנו כמה חברים לשחק...    m      m\n",
       "651  לפני כחצי שנה עברתי לגור בצפון עם בת זוגתי עבר...    m      m\n",
       "371  כשהתחילה הקורונה הלימודים עברו להיות רק בזום כ...    m      f\n",
       "77   בשנה האחרונה עברתי דירה לעיר שיש בה ים כל חיי ...    m      f\n",
       "212  לפני חצי שנה הייתי באיטליה עם המשפחה שלי זאת ה...    m      f"
      ]
     },
     "execution_count": 23,
     "metadata": {},
     "output_type": "execute_result"
    },
    {
     "name": "stdout",
     "output_type": "stream",
     "text": [
      "Weighted F1-score for CountVectorizer: 0.64\n"
     ]
    }
   ],
   "source": [
    "# This cell do the last proccess and model create & fit.\n",
    "# I will try both TfidfVectorizer and CountVectorizer.\n",
    "# I will print the head of the predictions for each vectorizer and the f1-score to compare.\n",
    "#\n",
    "# Current Cell Algorithm: KNN (K=4)\n",
    "\n",
    "TFIDF_Vectorizer = TfidfVectorizer(max_features=1000)\n",
    "CV_Vectorizer = CountVectorizer(max_features=1000)\n",
    "\n",
    "X_train_TFIDF = TFIDF_Vectorizer.fit_transform(X_train)\n",
    "X_test_TFIDF = TFIDF_Vectorizer.transform(X_test)\n",
    "\n",
    "X_train_CV = CV_Vectorizer.fit_transform(X_train)\n",
    "X_test_CV = CV_Vectorizer.transform(X_test)\n",
    "\n",
    "model = KNeighborsClassifier(n_neighbors=5)\n",
    "\n",
    "#TFIDF\n",
    "model.fit(X_train_TFIDF, y_train)\n",
    "y_pred = model.predict(X_test_TFIDF)\n",
    "df_prediction = pd.DataFrame({\"story\":X_test, \"pred\":y_pred, \"actual\":y_test})\n",
    "print(\"\\n\\n\\nTFIDF_Vectorizer + KNN(K=5):\")\n",
    "df_prediction.head()\n",
    "f1 = f1_score(y_test, y_pred, average='weighted')\n",
    "print(f'Weighted F1-score for TFIDF_Vectorizer: {f1:.2f}')\n",
    "\n",
    "#CV\n",
    "model.fit(X_train_CV, y_train)\n",
    "y_pred = model.predict(X_test_CV)\n",
    "df_prediction = pd.DataFrame({\"story\":X_test, \"pred\":y_pred, \"actual\":y_test})\n",
    "print(\"\\n\\n\\nCountVectorizer + KNN(K=5):\")\n",
    "df_prediction.head()\n",
    "f1 = f1_score(y_test, y_pred, average='weighted')\n",
    "print(f'Weighted F1-score for CountVectorizer: {f1:.2f}')"
   ]
  },
  {
   "cell_type": "code",
   "execution_count": 24,
   "metadata": {},
   "outputs": [
    {
     "data": {
      "text/plain": [
       "KNeighborsClassifier(algorithm='auto', leaf_size=30, metric='minkowski',\n",
       "                     metric_params=None, n_jobs=None, n_neighbors=3, p=2,\n",
       "                     weights='uniform')"
      ]
     },
     "execution_count": 24,
     "metadata": {},
     "output_type": "execute_result"
    },
    {
     "name": "stdout",
     "output_type": "stream",
     "text": [
      "\n",
      "\n",
      "\n",
      "TFIDF_Vectorizer + KNN(K=3):\n"
     ]
    },
    {
     "data": {
      "text/html": [
       "<div>\n",
       "<style scoped>\n",
       "    .dataframe tbody tr th:only-of-type {\n",
       "        vertical-align: middle;\n",
       "    }\n",
       "\n",
       "    .dataframe tbody tr th {\n",
       "        vertical-align: top;\n",
       "    }\n",
       "\n",
       "    .dataframe thead th {\n",
       "        text-align: right;\n",
       "    }\n",
       "</style>\n",
       "<table border=\"1\" class=\"dataframe\">\n",
       "  <thead>\n",
       "    <tr style=\"text-align: right;\">\n",
       "      <th></th>\n",
       "      <th>story</th>\n",
       "      <th>pred</th>\n",
       "      <th>actual</th>\n",
       "    </tr>\n",
       "  </thead>\n",
       "  <tbody>\n",
       "    <tr>\n",
       "      <th>716</th>\n",
       "      <td>יום אחד במהלך חופשת חנוכה הלכנו כמה חברים לשחק...</td>\n",
       "      <td>m</td>\n",
       "      <td>m</td>\n",
       "    </tr>\n",
       "    <tr>\n",
       "      <th>651</th>\n",
       "      <td>לפני כחצי שנה עברתי לגור בצפון עם בת זוגתי עבר...</td>\n",
       "      <td>m</td>\n",
       "      <td>m</td>\n",
       "    </tr>\n",
       "    <tr>\n",
       "      <th>371</th>\n",
       "      <td>כשהתחילה הקורונה הלימודים עברו להיות רק בזום כ...</td>\n",
       "      <td>m</td>\n",
       "      <td>f</td>\n",
       "    </tr>\n",
       "    <tr>\n",
       "      <th>77</th>\n",
       "      <td>בשנה האחרונה עברתי דירה לעיר שיש בה ים כל חיי ...</td>\n",
       "      <td>m</td>\n",
       "      <td>f</td>\n",
       "    </tr>\n",
       "    <tr>\n",
       "      <th>212</th>\n",
       "      <td>לפני חצי שנה הייתי באיטליה עם המשפחה שלי זאת ה...</td>\n",
       "      <td>m</td>\n",
       "      <td>f</td>\n",
       "    </tr>\n",
       "  </tbody>\n",
       "</table>\n",
       "</div>"
      ],
      "text/plain": [
       "                                                 story pred actual\n",
       "716  יום אחד במהלך חופשת חנוכה הלכנו כמה חברים לשחק...    m      m\n",
       "651  לפני כחצי שנה עברתי לגור בצפון עם בת זוגתי עבר...    m      m\n",
       "371  כשהתחילה הקורונה הלימודים עברו להיות רק בזום כ...    m      f\n",
       "77   בשנה האחרונה עברתי דירה לעיר שיש בה ים כל חיי ...    m      f\n",
       "212  לפני חצי שנה הייתי באיטליה עם המשפחה שלי זאת ה...    m      f"
      ]
     },
     "execution_count": 24,
     "metadata": {},
     "output_type": "execute_result"
    },
    {
     "name": "stdout",
     "output_type": "stream",
     "text": [
      "Weighted F1-score for TFIDF_Vectorizer: 0.69\n"
     ]
    },
    {
     "data": {
      "text/plain": [
       "KNeighborsClassifier(algorithm='auto', leaf_size=30, metric='minkowski',\n",
       "                     metric_params=None, n_jobs=None, n_neighbors=3, p=2,\n",
       "                     weights='uniform')"
      ]
     },
     "execution_count": 24,
     "metadata": {},
     "output_type": "execute_result"
    },
    {
     "name": "stdout",
     "output_type": "stream",
     "text": [
      "\n",
      "\n",
      "\n",
      "CountVectorizer + KNN(K=3):\n"
     ]
    },
    {
     "data": {
      "text/html": [
       "<div>\n",
       "<style scoped>\n",
       "    .dataframe tbody tr th:only-of-type {\n",
       "        vertical-align: middle;\n",
       "    }\n",
       "\n",
       "    .dataframe tbody tr th {\n",
       "        vertical-align: top;\n",
       "    }\n",
       "\n",
       "    .dataframe thead th {\n",
       "        text-align: right;\n",
       "    }\n",
       "</style>\n",
       "<table border=\"1\" class=\"dataframe\">\n",
       "  <thead>\n",
       "    <tr style=\"text-align: right;\">\n",
       "      <th></th>\n",
       "      <th>story</th>\n",
       "      <th>pred</th>\n",
       "      <th>actual</th>\n",
       "    </tr>\n",
       "  </thead>\n",
       "  <tbody>\n",
       "    <tr>\n",
       "      <th>716</th>\n",
       "      <td>יום אחד במהלך חופשת חנוכה הלכנו כמה חברים לשחק...</td>\n",
       "      <td>m</td>\n",
       "      <td>m</td>\n",
       "    </tr>\n",
       "    <tr>\n",
       "      <th>651</th>\n",
       "      <td>לפני כחצי שנה עברתי לגור בצפון עם בת זוגתי עבר...</td>\n",
       "      <td>m</td>\n",
       "      <td>m</td>\n",
       "    </tr>\n",
       "    <tr>\n",
       "      <th>371</th>\n",
       "      <td>כשהתחילה הקורונה הלימודים עברו להיות רק בזום כ...</td>\n",
       "      <td>m</td>\n",
       "      <td>f</td>\n",
       "    </tr>\n",
       "    <tr>\n",
       "      <th>77</th>\n",
       "      <td>בשנה האחרונה עברתי דירה לעיר שיש בה ים כל חיי ...</td>\n",
       "      <td>m</td>\n",
       "      <td>f</td>\n",
       "    </tr>\n",
       "    <tr>\n",
       "      <th>212</th>\n",
       "      <td>לפני חצי שנה הייתי באיטליה עם המשפחה שלי זאת ה...</td>\n",
       "      <td>m</td>\n",
       "      <td>f</td>\n",
       "    </tr>\n",
       "  </tbody>\n",
       "</table>\n",
       "</div>"
      ],
      "text/plain": [
       "                                                 story pred actual\n",
       "716  יום אחד במהלך חופשת חנוכה הלכנו כמה חברים לשחק...    m      m\n",
       "651  לפני כחצי שנה עברתי לגור בצפון עם בת זוגתי עבר...    m      m\n",
       "371  כשהתחילה הקורונה הלימודים עברו להיות רק בזום כ...    m      f\n",
       "77   בשנה האחרונה עברתי דירה לעיר שיש בה ים כל חיי ...    m      f\n",
       "212  לפני חצי שנה הייתי באיטליה עם המשפחה שלי זאת ה...    m      f"
      ]
     },
     "execution_count": 24,
     "metadata": {},
     "output_type": "execute_result"
    },
    {
     "name": "stdout",
     "output_type": "stream",
     "text": [
      "Weighted F1-score for CountVectorizer: 0.65\n"
     ]
    }
   ],
   "source": [
    "# This cell do the last proccess and model create & fit.\n",
    "# I will try both TfidfVectorizer and CountVectorizer.\n",
    "# I will print the head of the predictions for each vectorizer and the f1-score to compare.\n",
    "#\n",
    "# Current Cell Algorithm: KNN (K=7)\n",
    "\n",
    "X_train_TFIDF = TFIDF_Vectorizer.fit_transform(X_train)\n",
    "X_test_TFIDF = TFIDF_Vectorizer.transform(X_test)\n",
    "\n",
    "X_train_CV = CV_Vectorizer.fit_transform(X_train)\n",
    "X_test_CV = CV_Vectorizer.transform(X_test)\n",
    "\n",
    "model = KNeighborsClassifier(n_neighbors=3)\n",
    "\n",
    "#TFIDF\n",
    "model.fit(X_train_TFIDF, y_train)\n",
    "y_pred = model.predict(X_test_TFIDF)\n",
    "df_prediction = pd.DataFrame({\"story\":X_test, \"pred\":y_pred, \"actual\":y_test})\n",
    "print(\"\\n\\n\\nTFIDF_Vectorizer + KNN(K=3):\")\n",
    "df_prediction.head()\n",
    "f1 = f1_score(y_test, y_pred, average='weighted')\n",
    "print(f'Weighted F1-score for TFIDF_Vectorizer: {f1:.2f}')\n",
    "\n",
    "#CV\n",
    "model.fit(X_train_CV, y_train)\n",
    "y_pred = model.predict(X_test_CV)\n",
    "df_prediction = pd.DataFrame({\"story\":X_test, \"pred\":y_pred, \"actual\":y_test})\n",
    "print(\"\\n\\n\\nCountVectorizer + KNN(K=3):\")\n",
    "df_prediction.head()\n",
    "f1 = f1_score(y_test, y_pred, average='weighted')\n",
    "print(f'Weighted F1-score for CountVectorizer: {f1:.2f}')"
   ]
  },
  {
   "cell_type": "code",
   "execution_count": 25,
   "metadata": {},
   "outputs": [
    {
     "data": {
      "text/plain": [
       "Perceptron(alpha=0.0001, class_weight=None, early_stopping=False, eta0=1.0,\n",
       "           fit_intercept=True, max_iter=1000, n_iter_no_change=5, n_jobs=None,\n",
       "           penalty=None, random_state=0, shuffle=True, tol=0.001,\n",
       "           validation_fraction=0.1, verbose=0, warm_start=False)"
      ]
     },
     "execution_count": 25,
     "metadata": {},
     "output_type": "execute_result"
    },
    {
     "name": "stdout",
     "output_type": "stream",
     "text": [
      "\n",
      "\n",
      "\n",
      "TFIDF_Vectorizer + Perceptron:\n"
     ]
    },
    {
     "data": {
      "text/html": [
       "<div>\n",
       "<style scoped>\n",
       "    .dataframe tbody tr th:only-of-type {\n",
       "        vertical-align: middle;\n",
       "    }\n",
       "\n",
       "    .dataframe tbody tr th {\n",
       "        vertical-align: top;\n",
       "    }\n",
       "\n",
       "    .dataframe thead th {\n",
       "        text-align: right;\n",
       "    }\n",
       "</style>\n",
       "<table border=\"1\" class=\"dataframe\">\n",
       "  <thead>\n",
       "    <tr style=\"text-align: right;\">\n",
       "      <th></th>\n",
       "      <th>story</th>\n",
       "      <th>pred</th>\n",
       "      <th>actual</th>\n",
       "    </tr>\n",
       "  </thead>\n",
       "  <tbody>\n",
       "    <tr>\n",
       "      <th>716</th>\n",
       "      <td>יום אחד במהלך חופשת חנוכה הלכנו כמה חברים לשחק...</td>\n",
       "      <td>m</td>\n",
       "      <td>m</td>\n",
       "    </tr>\n",
       "    <tr>\n",
       "      <th>651</th>\n",
       "      <td>לפני כחצי שנה עברתי לגור בצפון עם בת זוגתי עבר...</td>\n",
       "      <td>m</td>\n",
       "      <td>m</td>\n",
       "    </tr>\n",
       "    <tr>\n",
       "      <th>371</th>\n",
       "      <td>כשהתחילה הקורונה הלימודים עברו להיות רק בזום כ...</td>\n",
       "      <td>m</td>\n",
       "      <td>f</td>\n",
       "    </tr>\n",
       "    <tr>\n",
       "      <th>77</th>\n",
       "      <td>בשנה האחרונה עברתי דירה לעיר שיש בה ים כל חיי ...</td>\n",
       "      <td>m</td>\n",
       "      <td>f</td>\n",
       "    </tr>\n",
       "    <tr>\n",
       "      <th>212</th>\n",
       "      <td>לפני חצי שנה הייתי באיטליה עם המשפחה שלי זאת ה...</td>\n",
       "      <td>f</td>\n",
       "      <td>f</td>\n",
       "    </tr>\n",
       "  </tbody>\n",
       "</table>\n",
       "</div>"
      ],
      "text/plain": [
       "                                                 story pred actual\n",
       "716  יום אחד במהלך חופשת חנוכה הלכנו כמה חברים לשחק...    m      m\n",
       "651  לפני כחצי שנה עברתי לגור בצפון עם בת זוגתי עבר...    m      m\n",
       "371  כשהתחילה הקורונה הלימודים עברו להיות רק בזום כ...    m      f\n",
       "77   בשנה האחרונה עברתי דירה לעיר שיש בה ים כל חיי ...    m      f\n",
       "212  לפני חצי שנה הייתי באיטליה עם המשפחה שלי זאת ה...    f      f"
      ]
     },
     "execution_count": 25,
     "metadata": {},
     "output_type": "execute_result"
    },
    {
     "name": "stdout",
     "output_type": "stream",
     "text": [
      "Weighted F1-score for TFIDF_Vectorizer: 0.78\n"
     ]
    },
    {
     "data": {
      "text/plain": [
       "Perceptron(alpha=0.0001, class_weight=None, early_stopping=False, eta0=1.0,\n",
       "           fit_intercept=True, max_iter=1000, n_iter_no_change=5, n_jobs=None,\n",
       "           penalty=None, random_state=0, shuffle=True, tol=0.001,\n",
       "           validation_fraction=0.1, verbose=0, warm_start=False)"
      ]
     },
     "execution_count": 25,
     "metadata": {},
     "output_type": "execute_result"
    },
    {
     "name": "stdout",
     "output_type": "stream",
     "text": [
      "\n",
      "\n",
      "\n",
      "CountVectorizer + Perceptron:\n"
     ]
    },
    {
     "data": {
      "text/html": [
       "<div>\n",
       "<style scoped>\n",
       "    .dataframe tbody tr th:only-of-type {\n",
       "        vertical-align: middle;\n",
       "    }\n",
       "\n",
       "    .dataframe tbody tr th {\n",
       "        vertical-align: top;\n",
       "    }\n",
       "\n",
       "    .dataframe thead th {\n",
       "        text-align: right;\n",
       "    }\n",
       "</style>\n",
       "<table border=\"1\" class=\"dataframe\">\n",
       "  <thead>\n",
       "    <tr style=\"text-align: right;\">\n",
       "      <th></th>\n",
       "      <th>story</th>\n",
       "      <th>pred</th>\n",
       "      <th>actual</th>\n",
       "    </tr>\n",
       "  </thead>\n",
       "  <tbody>\n",
       "    <tr>\n",
       "      <th>716</th>\n",
       "      <td>יום אחד במהלך חופשת חנוכה הלכנו כמה חברים לשחק...</td>\n",
       "      <td>m</td>\n",
       "      <td>m</td>\n",
       "    </tr>\n",
       "    <tr>\n",
       "      <th>651</th>\n",
       "      <td>לפני כחצי שנה עברתי לגור בצפון עם בת זוגתי עבר...</td>\n",
       "      <td>m</td>\n",
       "      <td>m</td>\n",
       "    </tr>\n",
       "    <tr>\n",
       "      <th>371</th>\n",
       "      <td>כשהתחילה הקורונה הלימודים עברו להיות רק בזום כ...</td>\n",
       "      <td>m</td>\n",
       "      <td>f</td>\n",
       "    </tr>\n",
       "    <tr>\n",
       "      <th>77</th>\n",
       "      <td>בשנה האחרונה עברתי דירה לעיר שיש בה ים כל חיי ...</td>\n",
       "      <td>f</td>\n",
       "      <td>f</td>\n",
       "    </tr>\n",
       "    <tr>\n",
       "      <th>212</th>\n",
       "      <td>לפני חצי שנה הייתי באיטליה עם המשפחה שלי זאת ה...</td>\n",
       "      <td>f</td>\n",
       "      <td>f</td>\n",
       "    </tr>\n",
       "  </tbody>\n",
       "</table>\n",
       "</div>"
      ],
      "text/plain": [
       "                                                 story pred actual\n",
       "716  יום אחד במהלך חופשת חנוכה הלכנו כמה חברים לשחק...    m      m\n",
       "651  לפני כחצי שנה עברתי לגור בצפון עם בת זוגתי עבר...    m      m\n",
       "371  כשהתחילה הקורונה הלימודים עברו להיות רק בזום כ...    m      f\n",
       "77   בשנה האחרונה עברתי דירה לעיר שיש בה ים כל חיי ...    f      f\n",
       "212  לפני חצי שנה הייתי באיטליה עם המשפחה שלי זאת ה...    f      f"
      ]
     },
     "execution_count": 25,
     "metadata": {},
     "output_type": "execute_result"
    },
    {
     "name": "stdout",
     "output_type": "stream",
     "text": [
      "Weighted F1-score for CountVectorizer: 0.72\n"
     ]
    }
   ],
   "source": [
    "# This cell do the last proccess and model create & fit.\n",
    "# I will try both TfidfVectorizer and CountVectorizer.\n",
    "# I will print the head of the predictions for each vectorizer and the f1-score to compare.\n",
    "#\n",
    "# Current Cell Algorithm: Perceptron\n",
    "\n",
    "X_train_TFIDF = TFIDF_Vectorizer.fit_transform(X_train)\n",
    "X_test_TFIDF = TFIDF_Vectorizer.transform(X_test)\n",
    "\n",
    "X_train_CV = CV_Vectorizer.fit_transform(X_train)\n",
    "X_test_CV = CV_Vectorizer.transform(X_test)\n",
    "\n",
    "model = Perceptron()\n",
    "\n",
    "#TFIDF\n",
    "model.fit(X_train_TFIDF, y_train)\n",
    "y_pred = model.predict(X_test_TFIDF)\n",
    "df_prediction = pd.DataFrame({\"story\":X_test, \"pred\":y_pred, \"actual\":y_test})\n",
    "print(\"\\n\\n\\nTFIDF_Vectorizer + Perceptron:\")\n",
    "df_prediction.head()\n",
    "f1 = f1_score(y_test, y_pred, average='weighted')\n",
    "print(f'Weighted F1-score for TFIDF_Vectorizer: {f1:.2f}')\n",
    "\n",
    "#CV\n",
    "model.fit(X_train_CV, y_train)\n",
    "y_pred = model.predict(X_test_CV)\n",
    "df_prediction = pd.DataFrame({\"story\":X_test, \"pred\":y_pred, \"actual\":y_test})\n",
    "print(\"\\n\\n\\nCountVectorizer + Perceptron:\")\n",
    "df_prediction.head()\n",
    "f1 = f1_score(y_test, y_pred, average='weighted')\n",
    "print(f'Weighted F1-score for CountVectorizer: {f1:.2f}')"
   ]
  },
  {
   "cell_type": "code",
   "execution_count": 26,
   "metadata": {},
   "outputs": [
    {
     "data": {
      "text/plain": [
       "LinearSVC(C=1.0, class_weight=None, dual=True, fit_intercept=True,\n",
       "          intercept_scaling=1, loss='squared_hinge', max_iter=1000,\n",
       "          multi_class='ovr', penalty='l2', random_state=None, tol=0.0001,\n",
       "          verbose=0)"
      ]
     },
     "execution_count": 26,
     "metadata": {},
     "output_type": "execute_result"
    },
    {
     "name": "stdout",
     "output_type": "stream",
     "text": [
      "\n",
      "\n",
      "\n",
      "TFIDF_Vectorizer + LinearSVC:\n"
     ]
    },
    {
     "data": {
      "text/html": [
       "<div>\n",
       "<style scoped>\n",
       "    .dataframe tbody tr th:only-of-type {\n",
       "        vertical-align: middle;\n",
       "    }\n",
       "\n",
       "    .dataframe tbody tr th {\n",
       "        vertical-align: top;\n",
       "    }\n",
       "\n",
       "    .dataframe thead th {\n",
       "        text-align: right;\n",
       "    }\n",
       "</style>\n",
       "<table border=\"1\" class=\"dataframe\">\n",
       "  <thead>\n",
       "    <tr style=\"text-align: right;\">\n",
       "      <th></th>\n",
       "      <th>story</th>\n",
       "      <th>pred</th>\n",
       "      <th>actual</th>\n",
       "    </tr>\n",
       "  </thead>\n",
       "  <tbody>\n",
       "    <tr>\n",
       "      <th>716</th>\n",
       "      <td>יום אחד במהלך חופשת חנוכה הלכנו כמה חברים לשחק...</td>\n",
       "      <td>m</td>\n",
       "      <td>m</td>\n",
       "    </tr>\n",
       "    <tr>\n",
       "      <th>651</th>\n",
       "      <td>לפני כחצי שנה עברתי לגור בצפון עם בת זוגתי עבר...</td>\n",
       "      <td>m</td>\n",
       "      <td>m</td>\n",
       "    </tr>\n",
       "    <tr>\n",
       "      <th>371</th>\n",
       "      <td>כשהתחילה הקורונה הלימודים עברו להיות רק בזום כ...</td>\n",
       "      <td>m</td>\n",
       "      <td>f</td>\n",
       "    </tr>\n",
       "    <tr>\n",
       "      <th>77</th>\n",
       "      <td>בשנה האחרונה עברתי דירה לעיר שיש בה ים כל חיי ...</td>\n",
       "      <td>m</td>\n",
       "      <td>f</td>\n",
       "    </tr>\n",
       "    <tr>\n",
       "      <th>212</th>\n",
       "      <td>לפני חצי שנה הייתי באיטליה עם המשפחה שלי זאת ה...</td>\n",
       "      <td>f</td>\n",
       "      <td>f</td>\n",
       "    </tr>\n",
       "  </tbody>\n",
       "</table>\n",
       "</div>"
      ],
      "text/plain": [
       "                                                 story pred actual\n",
       "716  יום אחד במהלך חופשת חנוכה הלכנו כמה חברים לשחק...    m      m\n",
       "651  לפני כחצי שנה עברתי לגור בצפון עם בת זוגתי עבר...    m      m\n",
       "371  כשהתחילה הקורונה הלימודים עברו להיות רק בזום כ...    m      f\n",
       "77   בשנה האחרונה עברתי דירה לעיר שיש בה ים כל חיי ...    m      f\n",
       "212  לפני חצי שנה הייתי באיטליה עם המשפחה שלי זאת ה...    f      f"
      ]
     },
     "execution_count": 26,
     "metadata": {},
     "output_type": "execute_result"
    },
    {
     "name": "stdout",
     "output_type": "stream",
     "text": [
      "Weighted F1-score for TFIDF_Vectorizer: 0.76\n"
     ]
    },
    {
     "data": {
      "text/plain": [
       "LinearSVC(C=1.0, class_weight=None, dual=True, fit_intercept=True,\n",
       "          intercept_scaling=1, loss='squared_hinge', max_iter=1000,\n",
       "          multi_class='ovr', penalty='l2', random_state=None, tol=0.0001,\n",
       "          verbose=0)"
      ]
     },
     "execution_count": 26,
     "metadata": {},
     "output_type": "execute_result"
    },
    {
     "name": "stdout",
     "output_type": "stream",
     "text": [
      "\n",
      "\n",
      "\n",
      "CountVectorizer + LinearSVC:\n"
     ]
    },
    {
     "data": {
      "text/html": [
       "<div>\n",
       "<style scoped>\n",
       "    .dataframe tbody tr th:only-of-type {\n",
       "        vertical-align: middle;\n",
       "    }\n",
       "\n",
       "    .dataframe tbody tr th {\n",
       "        vertical-align: top;\n",
       "    }\n",
       "\n",
       "    .dataframe thead th {\n",
       "        text-align: right;\n",
       "    }\n",
       "</style>\n",
       "<table border=\"1\" class=\"dataframe\">\n",
       "  <thead>\n",
       "    <tr style=\"text-align: right;\">\n",
       "      <th></th>\n",
       "      <th>story</th>\n",
       "      <th>pred</th>\n",
       "      <th>actual</th>\n",
       "    </tr>\n",
       "  </thead>\n",
       "  <tbody>\n",
       "    <tr>\n",
       "      <th>716</th>\n",
       "      <td>יום אחד במהלך חופשת חנוכה הלכנו כמה חברים לשחק...</td>\n",
       "      <td>m</td>\n",
       "      <td>m</td>\n",
       "    </tr>\n",
       "    <tr>\n",
       "      <th>651</th>\n",
       "      <td>לפני כחצי שנה עברתי לגור בצפון עם בת זוגתי עבר...</td>\n",
       "      <td>m</td>\n",
       "      <td>m</td>\n",
       "    </tr>\n",
       "    <tr>\n",
       "      <th>371</th>\n",
       "      <td>כשהתחילה הקורונה הלימודים עברו להיות רק בזום כ...</td>\n",
       "      <td>m</td>\n",
       "      <td>f</td>\n",
       "    </tr>\n",
       "    <tr>\n",
       "      <th>77</th>\n",
       "      <td>בשנה האחרונה עברתי דירה לעיר שיש בה ים כל חיי ...</td>\n",
       "      <td>m</td>\n",
       "      <td>f</td>\n",
       "    </tr>\n",
       "    <tr>\n",
       "      <th>212</th>\n",
       "      <td>לפני חצי שנה הייתי באיטליה עם המשפחה שלי זאת ה...</td>\n",
       "      <td>f</td>\n",
       "      <td>f</td>\n",
       "    </tr>\n",
       "  </tbody>\n",
       "</table>\n",
       "</div>"
      ],
      "text/plain": [
       "                                                 story pred actual\n",
       "716  יום אחד במהלך חופשת חנוכה הלכנו כמה חברים לשחק...    m      m\n",
       "651  לפני כחצי שנה עברתי לגור בצפון עם בת זוגתי עבר...    m      m\n",
       "371  כשהתחילה הקורונה הלימודים עברו להיות רק בזום כ...    m      f\n",
       "77   בשנה האחרונה עברתי דירה לעיר שיש בה ים כל חיי ...    m      f\n",
       "212  לפני חצי שנה הייתי באיטליה עם המשפחה שלי זאת ה...    f      f"
      ]
     },
     "execution_count": 26,
     "metadata": {},
     "output_type": "execute_result"
    },
    {
     "name": "stdout",
     "output_type": "stream",
     "text": [
      "Weighted F1-score for CountVectorizer: 0.74\n"
     ]
    }
   ],
   "source": [
    "# This cell do the last proccess and model create & fit.\n",
    "# I will try both TfidfVectorizer and CountVectorizer.\n",
    "# I will print the head of the predictions for each vectorizer and the f1-score to compare.\n",
    "#\n",
    "# Current Cell Algorithm: SVM - LinearSVC\n",
    "\n",
    "X_train_TFIDF = TFIDF_Vectorizer.fit_transform(X_train)\n",
    "X_test_TFIDF = TFIDF_Vectorizer.transform(X_test)\n",
    "\n",
    "X_train_CV = CV_Vectorizer.fit_transform(X_train)\n",
    "X_test_CV = CV_Vectorizer.transform(X_test)\n",
    "\n",
    "model = LinearSVC()\n",
    "\n",
    "#TFIDF\n",
    "model.fit(X_train_TFIDF, y_train)\n",
    "y_pred = model.predict(X_test_TFIDF)\n",
    "df_prediction = pd.DataFrame({\"story\":X_test, \"pred\":y_pred, \"actual\":y_test})\n",
    "print(\"\\n\\n\\nTFIDF_Vectorizer + LinearSVC:\")\n",
    "df_prediction.head()\n",
    "f1 = f1_score(y_test, y_pred, average='weighted')\n",
    "print(f'Weighted F1-score for TFIDF_Vectorizer: {f1:.2f}')\n",
    "\n",
    "#CV\n",
    "model.fit(X_train_CV, y_train)\n",
    "y_pred = model.predict(X_test_CV)\n",
    "df_prediction = pd.DataFrame({\"story\":X_test, \"pred\":y_pred, \"actual\":y_test})\n",
    "print(\"\\n\\n\\nCountVectorizer + LinearSVC:\")\n",
    "df_prediction.head()\n",
    "f1 = f1_score(y_test, y_pred, average='weighted')\n",
    "print(f'Weighted F1-score for CountVectorizer: {f1:.2f}')"
   ]
  },
  {
   "cell_type": "code",
   "execution_count": 27,
   "metadata": {},
   "outputs": [
    {
     "data": {
      "text/plain": [
       "MLPClassifier(activation='relu', alpha=0.0001, batch_size='auto', beta_1=0.9,\n",
       "              beta_2=0.999, early_stopping=False, epsilon=1e-08,\n",
       "              hidden_layer_sizes=(100, 50), learning_rate='constant',\n",
       "              learning_rate_init=0.001, max_iter=500, momentum=0.9,\n",
       "              n_iter_no_change=10, nesterovs_momentum=True, power_t=0.5,\n",
       "              random_state=42, shuffle=True, solver='adam', tol=0.0001,\n",
       "              validation_fraction=0.1, verbose=False, warm_start=False)"
      ]
     },
     "execution_count": 27,
     "metadata": {},
     "output_type": "execute_result"
    },
    {
     "name": "stdout",
     "output_type": "stream",
     "text": [
      "\n",
      "\n",
      "\n",
      "TFIDF_Vectorizer + MLPClassifier:\n"
     ]
    },
    {
     "data": {
      "text/html": [
       "<div>\n",
       "<style scoped>\n",
       "    .dataframe tbody tr th:only-of-type {\n",
       "        vertical-align: middle;\n",
       "    }\n",
       "\n",
       "    .dataframe tbody tr th {\n",
       "        vertical-align: top;\n",
       "    }\n",
       "\n",
       "    .dataframe thead th {\n",
       "        text-align: right;\n",
       "    }\n",
       "</style>\n",
       "<table border=\"1\" class=\"dataframe\">\n",
       "  <thead>\n",
       "    <tr style=\"text-align: right;\">\n",
       "      <th></th>\n",
       "      <th>story</th>\n",
       "      <th>pred</th>\n",
       "      <th>actual</th>\n",
       "    </tr>\n",
       "  </thead>\n",
       "  <tbody>\n",
       "    <tr>\n",
       "      <th>716</th>\n",
       "      <td>יום אחד במהלך חופשת חנוכה הלכנו כמה חברים לשחק...</td>\n",
       "      <td>m</td>\n",
       "      <td>m</td>\n",
       "    </tr>\n",
       "    <tr>\n",
       "      <th>651</th>\n",
       "      <td>לפני כחצי שנה עברתי לגור בצפון עם בת זוגתי עבר...</td>\n",
       "      <td>m</td>\n",
       "      <td>m</td>\n",
       "    </tr>\n",
       "    <tr>\n",
       "      <th>371</th>\n",
       "      <td>כשהתחילה הקורונה הלימודים עברו להיות רק בזום כ...</td>\n",
       "      <td>m</td>\n",
       "      <td>f</td>\n",
       "    </tr>\n",
       "    <tr>\n",
       "      <th>77</th>\n",
       "      <td>בשנה האחרונה עברתי דירה לעיר שיש בה ים כל חיי ...</td>\n",
       "      <td>m</td>\n",
       "      <td>f</td>\n",
       "    </tr>\n",
       "    <tr>\n",
       "      <th>212</th>\n",
       "      <td>לפני חצי שנה הייתי באיטליה עם המשפחה שלי זאת ה...</td>\n",
       "      <td>f</td>\n",
       "      <td>f</td>\n",
       "    </tr>\n",
       "  </tbody>\n",
       "</table>\n",
       "</div>"
      ],
      "text/plain": [
       "                                                 story pred actual\n",
       "716  יום אחד במהלך חופשת חנוכה הלכנו כמה חברים לשחק...    m      m\n",
       "651  לפני כחצי שנה עברתי לגור בצפון עם בת זוגתי עבר...    m      m\n",
       "371  כשהתחילה הקורונה הלימודים עברו להיות רק בזום כ...    m      f\n",
       "77   בשנה האחרונה עברתי דירה לעיר שיש בה ים כל חיי ...    m      f\n",
       "212  לפני חצי שנה הייתי באיטליה עם המשפחה שלי זאת ה...    f      f"
      ]
     },
     "execution_count": 27,
     "metadata": {},
     "output_type": "execute_result"
    },
    {
     "name": "stdout",
     "output_type": "stream",
     "text": [
      "Weighted F1-score for TFIDF_Vectorizer: 0.75\n"
     ]
    },
    {
     "data": {
      "text/plain": [
       "MLPClassifier(activation='relu', alpha=0.0001, batch_size='auto', beta_1=0.9,\n",
       "              beta_2=0.999, early_stopping=False, epsilon=1e-08,\n",
       "              hidden_layer_sizes=(100, 50), learning_rate='constant',\n",
       "              learning_rate_init=0.001, max_iter=500, momentum=0.9,\n",
       "              n_iter_no_change=10, nesterovs_momentum=True, power_t=0.5,\n",
       "              random_state=42, shuffle=True, solver='adam', tol=0.0001,\n",
       "              validation_fraction=0.1, verbose=False, warm_start=False)"
      ]
     },
     "execution_count": 27,
     "metadata": {},
     "output_type": "execute_result"
    },
    {
     "name": "stdout",
     "output_type": "stream",
     "text": [
      "\n",
      "\n",
      "\n",
      "CountVectorizer + MLPClassifier:\n"
     ]
    },
    {
     "data": {
      "text/html": [
       "<div>\n",
       "<style scoped>\n",
       "    .dataframe tbody tr th:only-of-type {\n",
       "        vertical-align: middle;\n",
       "    }\n",
       "\n",
       "    .dataframe tbody tr th {\n",
       "        vertical-align: top;\n",
       "    }\n",
       "\n",
       "    .dataframe thead th {\n",
       "        text-align: right;\n",
       "    }\n",
       "</style>\n",
       "<table border=\"1\" class=\"dataframe\">\n",
       "  <thead>\n",
       "    <tr style=\"text-align: right;\">\n",
       "      <th></th>\n",
       "      <th>story</th>\n",
       "      <th>pred</th>\n",
       "      <th>actual</th>\n",
       "    </tr>\n",
       "  </thead>\n",
       "  <tbody>\n",
       "    <tr>\n",
       "      <th>716</th>\n",
       "      <td>יום אחד במהלך חופשת חנוכה הלכנו כמה חברים לשחק...</td>\n",
       "      <td>m</td>\n",
       "      <td>m</td>\n",
       "    </tr>\n",
       "    <tr>\n",
       "      <th>651</th>\n",
       "      <td>לפני כחצי שנה עברתי לגור בצפון עם בת זוגתי עבר...</td>\n",
       "      <td>m</td>\n",
       "      <td>m</td>\n",
       "    </tr>\n",
       "    <tr>\n",
       "      <th>371</th>\n",
       "      <td>כשהתחילה הקורונה הלימודים עברו להיות רק בזום כ...</td>\n",
       "      <td>m</td>\n",
       "      <td>f</td>\n",
       "    </tr>\n",
       "    <tr>\n",
       "      <th>77</th>\n",
       "      <td>בשנה האחרונה עברתי דירה לעיר שיש בה ים כל חיי ...</td>\n",
       "      <td>m</td>\n",
       "      <td>f</td>\n",
       "    </tr>\n",
       "    <tr>\n",
       "      <th>212</th>\n",
       "      <td>לפני חצי שנה הייתי באיטליה עם המשפחה שלי זאת ה...</td>\n",
       "      <td>f</td>\n",
       "      <td>f</td>\n",
       "    </tr>\n",
       "  </tbody>\n",
       "</table>\n",
       "</div>"
      ],
      "text/plain": [
       "                                                 story pred actual\n",
       "716  יום אחד במהלך חופשת חנוכה הלכנו כמה חברים לשחק...    m      m\n",
       "651  לפני כחצי שנה עברתי לגור בצפון עם בת זוגתי עבר...    m      m\n",
       "371  כשהתחילה הקורונה הלימודים עברו להיות רק בזום כ...    m      f\n",
       "77   בשנה האחרונה עברתי דירה לעיר שיש בה ים כל חיי ...    m      f\n",
       "212  לפני חצי שנה הייתי באיטליה עם המשפחה שלי זאת ה...    f      f"
      ]
     },
     "execution_count": 27,
     "metadata": {},
     "output_type": "execute_result"
    },
    {
     "name": "stdout",
     "output_type": "stream",
     "text": [
      "Weighted F1-score for CountVectorizer: 0.77\n"
     ]
    }
   ],
   "source": [
    "# This cell do the last proccess and model create & fit.\n",
    "# I will try both TfidfVectorizer and CountVectorizer.\n",
    "# I will print the head of the predictions for each vectorizer and the f1-score to compare.\n",
    "#\n",
    "# Current Cell Algorithm: MLPClassifier\n",
    "\n",
    "X_train_TFIDF = TFIDF_Vectorizer.fit_transform(X_train)\n",
    "X_test_TFIDF = TFIDF_Vectorizer.transform(X_test)\n",
    "\n",
    "X_train_CV = CV_Vectorizer.fit_transform(X_train)\n",
    "X_test_CV = CV_Vectorizer.transform(X_test)\n",
    "\n",
    "model = MLPClassifier(hidden_layer_sizes=(100, 50), max_iter=500, random_state=42)\n",
    "\n",
    "#TFIDF\n",
    "model.fit(X_train_TFIDF, y_train)\n",
    "y_pred = model.predict(X_test_TFIDF)\n",
    "df_prediction = pd.DataFrame({\"story\":X_test, \"pred\":y_pred, \"actual\":y_test})\n",
    "print(\"\\n\\n\\nTFIDF_Vectorizer + MLPClassifier:\")\n",
    "df_prediction.head()\n",
    "f1 = f1_score(y_test, y_pred, average='weighted')\n",
    "print(f'Weighted F1-score for TFIDF_Vectorizer: {f1:.2f}')\n",
    "\n",
    "#CV\n",
    "model.fit(X_train_CV, y_train)\n",
    "y_pred = model.predict(X_test_CV)\n",
    "df_prediction = pd.DataFrame({\"story\":X_test, \"pred\":y_pred, \"actual\":y_test})\n",
    "print(\"\\n\\n\\nCountVectorizer + MLPClassifier:\")\n",
    "df_prediction.head()\n",
    "f1 = f1_score(y_test, y_pred, average='weighted')\n",
    "print(f'Weighted F1-score for CountVectorizer: {f1:.2f}')"
   ]
  },
  {
   "cell_type": "code",
   "execution_count": 28,
   "metadata": {},
   "outputs": [
    {
     "data": {
      "text/plain": [
       "DecisionTreeClassifier(class_weight=None, criterion='gini', max_depth=None,\n",
       "                       max_features=None, max_leaf_nodes=None,\n",
       "                       min_impurity_decrease=0.0, min_impurity_split=None,\n",
       "                       min_samples_leaf=1, min_samples_split=2,\n",
       "                       min_weight_fraction_leaf=0.0, presort=False,\n",
       "                       random_state=42, splitter='best')"
      ]
     },
     "execution_count": 28,
     "metadata": {},
     "output_type": "execute_result"
    },
    {
     "name": "stdout",
     "output_type": "stream",
     "text": [
      "\n",
      "\n",
      "\n",
      "TFIDF_Vectorizer + DecisionTreeClassifier:\n"
     ]
    },
    {
     "data": {
      "text/html": [
       "<div>\n",
       "<style scoped>\n",
       "    .dataframe tbody tr th:only-of-type {\n",
       "        vertical-align: middle;\n",
       "    }\n",
       "\n",
       "    .dataframe tbody tr th {\n",
       "        vertical-align: top;\n",
       "    }\n",
       "\n",
       "    .dataframe thead th {\n",
       "        text-align: right;\n",
       "    }\n",
       "</style>\n",
       "<table border=\"1\" class=\"dataframe\">\n",
       "  <thead>\n",
       "    <tr style=\"text-align: right;\">\n",
       "      <th></th>\n",
       "      <th>story</th>\n",
       "      <th>pred</th>\n",
       "      <th>actual</th>\n",
       "    </tr>\n",
       "  </thead>\n",
       "  <tbody>\n",
       "    <tr>\n",
       "      <th>716</th>\n",
       "      <td>יום אחד במהלך חופשת חנוכה הלכנו כמה חברים לשחק...</td>\n",
       "      <td>m</td>\n",
       "      <td>m</td>\n",
       "    </tr>\n",
       "    <tr>\n",
       "      <th>651</th>\n",
       "      <td>לפני כחצי שנה עברתי לגור בצפון עם בת זוגתי עבר...</td>\n",
       "      <td>m</td>\n",
       "      <td>m</td>\n",
       "    </tr>\n",
       "    <tr>\n",
       "      <th>371</th>\n",
       "      <td>כשהתחילה הקורונה הלימודים עברו להיות רק בזום כ...</td>\n",
       "      <td>m</td>\n",
       "      <td>f</td>\n",
       "    </tr>\n",
       "    <tr>\n",
       "      <th>77</th>\n",
       "      <td>בשנה האחרונה עברתי דירה לעיר שיש בה ים כל חיי ...</td>\n",
       "      <td>m</td>\n",
       "      <td>f</td>\n",
       "    </tr>\n",
       "    <tr>\n",
       "      <th>212</th>\n",
       "      <td>לפני חצי שנה הייתי באיטליה עם המשפחה שלי זאת ה...</td>\n",
       "      <td>f</td>\n",
       "      <td>f</td>\n",
       "    </tr>\n",
       "  </tbody>\n",
       "</table>\n",
       "</div>"
      ],
      "text/plain": [
       "                                                 story pred actual\n",
       "716  יום אחד במהלך חופשת חנוכה הלכנו כמה חברים לשחק...    m      m\n",
       "651  לפני כחצי שנה עברתי לגור בצפון עם בת זוגתי עבר...    m      m\n",
       "371  כשהתחילה הקורונה הלימודים עברו להיות רק בזום כ...    m      f\n",
       "77   בשנה האחרונה עברתי דירה לעיר שיש בה ים כל חיי ...    m      f\n",
       "212  לפני חצי שנה הייתי באיטליה עם המשפחה שלי זאת ה...    f      f"
      ]
     },
     "execution_count": 28,
     "metadata": {},
     "output_type": "execute_result"
    },
    {
     "name": "stdout",
     "output_type": "stream",
     "text": [
      "Weighted F1-score for TFIDF_Vectorizer: 0.73\n"
     ]
    },
    {
     "data": {
      "text/plain": [
       "DecisionTreeClassifier(class_weight=None, criterion='gini', max_depth=None,\n",
       "                       max_features=None, max_leaf_nodes=None,\n",
       "                       min_impurity_decrease=0.0, min_impurity_split=None,\n",
       "                       min_samples_leaf=1, min_samples_split=2,\n",
       "                       min_weight_fraction_leaf=0.0, presort=False,\n",
       "                       random_state=42, splitter='best')"
      ]
     },
     "execution_count": 28,
     "metadata": {},
     "output_type": "execute_result"
    },
    {
     "name": "stdout",
     "output_type": "stream",
     "text": [
      "\n",
      "\n",
      "\n",
      "CountVectorizer + DecisionTreeClassifier:\n"
     ]
    },
    {
     "data": {
      "text/html": [
       "<div>\n",
       "<style scoped>\n",
       "    .dataframe tbody tr th:only-of-type {\n",
       "        vertical-align: middle;\n",
       "    }\n",
       "\n",
       "    .dataframe tbody tr th {\n",
       "        vertical-align: top;\n",
       "    }\n",
       "\n",
       "    .dataframe thead th {\n",
       "        text-align: right;\n",
       "    }\n",
       "</style>\n",
       "<table border=\"1\" class=\"dataframe\">\n",
       "  <thead>\n",
       "    <tr style=\"text-align: right;\">\n",
       "      <th></th>\n",
       "      <th>story</th>\n",
       "      <th>pred</th>\n",
       "      <th>actual</th>\n",
       "    </tr>\n",
       "  </thead>\n",
       "  <tbody>\n",
       "    <tr>\n",
       "      <th>716</th>\n",
       "      <td>יום אחד במהלך חופשת חנוכה הלכנו כמה חברים לשחק...</td>\n",
       "      <td>m</td>\n",
       "      <td>m</td>\n",
       "    </tr>\n",
       "    <tr>\n",
       "      <th>651</th>\n",
       "      <td>לפני כחצי שנה עברתי לגור בצפון עם בת זוגתי עבר...</td>\n",
       "      <td>f</td>\n",
       "      <td>m</td>\n",
       "    </tr>\n",
       "    <tr>\n",
       "      <th>371</th>\n",
       "      <td>כשהתחילה הקורונה הלימודים עברו להיות רק בזום כ...</td>\n",
       "      <td>m</td>\n",
       "      <td>f</td>\n",
       "    </tr>\n",
       "    <tr>\n",
       "      <th>77</th>\n",
       "      <td>בשנה האחרונה עברתי דירה לעיר שיש בה ים כל חיי ...</td>\n",
       "      <td>f</td>\n",
       "      <td>f</td>\n",
       "    </tr>\n",
       "    <tr>\n",
       "      <th>212</th>\n",
       "      <td>לפני חצי שנה הייתי באיטליה עם המשפחה שלי זאת ה...</td>\n",
       "      <td>f</td>\n",
       "      <td>f</td>\n",
       "    </tr>\n",
       "  </tbody>\n",
       "</table>\n",
       "</div>"
      ],
      "text/plain": [
       "                                                 story pred actual\n",
       "716  יום אחד במהלך חופשת חנוכה הלכנו כמה חברים לשחק...    m      m\n",
       "651  לפני כחצי שנה עברתי לגור בצפון עם בת זוגתי עבר...    f      m\n",
       "371  כשהתחילה הקורונה הלימודים עברו להיות רק בזום כ...    m      f\n",
       "77   בשנה האחרונה עברתי דירה לעיר שיש בה ים כל חיי ...    f      f\n",
       "212  לפני חצי שנה הייתי באיטליה עם המשפחה שלי זאת ה...    f      f"
      ]
     },
     "execution_count": 28,
     "metadata": {},
     "output_type": "execute_result"
    },
    {
     "name": "stdout",
     "output_type": "stream",
     "text": [
      "Weighted F1-score for CountVectorizer: 0.63\n"
     ]
    }
   ],
   "source": [
    "# This cell do the last proccess and model create & fit.\n",
    "# I will try both TfidfVectorizer and CountVectorizer.\n",
    "# I will print the head of the predictions for each vectorizer and the f1-score to compare.\n",
    "#\n",
    "# Current Cell Algorithm: DecisionTreeClassifier\n",
    "\n",
    "X_train_TFIDF = TFIDF_Vectorizer.fit_transform(X_train)\n",
    "X_test_TFIDF = TFIDF_Vectorizer.transform(X_test)\n",
    "\n",
    "X_train_CV = CV_Vectorizer.fit_transform(X_train)\n",
    "X_test_CV = CV_Vectorizer.transform(X_test)\n",
    "\n",
    "model = DecisionTreeClassifier(criterion='gini',random_state=42, splitter='best')\n",
    "\n",
    "#TFIDF\n",
    "model.fit(X_train_TFIDF, y_train)\n",
    "y_pred = model.predict(X_test_TFIDF)\n",
    "df_prediction = pd.DataFrame({\"story\":X_test, \"pred\":y_pred, \"actual\":y_test})\n",
    "print(\"\\n\\n\\nTFIDF_Vectorizer + DecisionTreeClassifier:\")\n",
    "df_prediction.head()\n",
    "f1 = f1_score(y_test, y_pred, average='weighted')\n",
    "print(f'Weighted F1-score for TFIDF_Vectorizer: {f1:.2f}')\n",
    "\n",
    "#CV\n",
    "model.fit(X_train_CV, y_train)\n",
    "y_pred = model.predict(X_test_CV)\n",
    "df_prediction = pd.DataFrame({\"story\":X_test, \"pred\":y_pred, \"actual\":y_test})\n",
    "print(\"\\n\\n\\nCountVectorizer + DecisionTreeClassifier:\")\n",
    "df_prediction.head()\n",
    "f1 = f1_score(y_test, y_pred, average='weighted')\n",
    "print(f'Weighted F1-score for CountVectorizer: {f1:.2f}')"
   ]
  },
  {
   "cell_type": "code",
   "execution_count": 29,
   "metadata": {},
   "outputs": [
    {
     "data": {
      "text/plain": [
       "SGDClassifier(alpha=0.0001, average=False, class_weight=None,\n",
       "              early_stopping=False, epsilon=0.1, eta0=0.0, fit_intercept=True,\n",
       "              l1_ratio=0.15, learning_rate='optimal', loss='hinge',\n",
       "              max_iter=1000, n_iter_no_change=5, n_jobs=None, penalty='l2',\n",
       "              power_t=0.5, random_state=None, shuffle=True, tol=0.001,\n",
       "              validation_fraction=0.1, verbose=0, warm_start=False)"
      ]
     },
     "execution_count": 29,
     "metadata": {},
     "output_type": "execute_result"
    },
    {
     "name": "stdout",
     "output_type": "stream",
     "text": [
      "\n",
      "\n",
      "\n",
      "TFIDF_Vectorizer + SGDClassifier:\n"
     ]
    },
    {
     "data": {
      "text/html": [
       "<div>\n",
       "<style scoped>\n",
       "    .dataframe tbody tr th:only-of-type {\n",
       "        vertical-align: middle;\n",
       "    }\n",
       "\n",
       "    .dataframe tbody tr th {\n",
       "        vertical-align: top;\n",
       "    }\n",
       "\n",
       "    .dataframe thead th {\n",
       "        text-align: right;\n",
       "    }\n",
       "</style>\n",
       "<table border=\"1\" class=\"dataframe\">\n",
       "  <thead>\n",
       "    <tr style=\"text-align: right;\">\n",
       "      <th></th>\n",
       "      <th>story</th>\n",
       "      <th>pred</th>\n",
       "      <th>actual</th>\n",
       "    </tr>\n",
       "  </thead>\n",
       "  <tbody>\n",
       "    <tr>\n",
       "      <th>716</th>\n",
       "      <td>יום אחד במהלך חופשת חנוכה הלכנו כמה חברים לשחק...</td>\n",
       "      <td>m</td>\n",
       "      <td>m</td>\n",
       "    </tr>\n",
       "    <tr>\n",
       "      <th>651</th>\n",
       "      <td>לפני כחצי שנה עברתי לגור בצפון עם בת זוגתי עבר...</td>\n",
       "      <td>m</td>\n",
       "      <td>m</td>\n",
       "    </tr>\n",
       "    <tr>\n",
       "      <th>371</th>\n",
       "      <td>כשהתחילה הקורונה הלימודים עברו להיות רק בזום כ...</td>\n",
       "      <td>m</td>\n",
       "      <td>f</td>\n",
       "    </tr>\n",
       "    <tr>\n",
       "      <th>77</th>\n",
       "      <td>בשנה האחרונה עברתי דירה לעיר שיש בה ים כל חיי ...</td>\n",
       "      <td>m</td>\n",
       "      <td>f</td>\n",
       "    </tr>\n",
       "    <tr>\n",
       "      <th>212</th>\n",
       "      <td>לפני חצי שנה הייתי באיטליה עם המשפחה שלי זאת ה...</td>\n",
       "      <td>f</td>\n",
       "      <td>f</td>\n",
       "    </tr>\n",
       "  </tbody>\n",
       "</table>\n",
       "</div>"
      ],
      "text/plain": [
       "                                                 story pred actual\n",
       "716  יום אחד במהלך חופשת חנוכה הלכנו כמה חברים לשחק...    m      m\n",
       "651  לפני כחצי שנה עברתי לגור בצפון עם בת זוגתי עבר...    m      m\n",
       "371  כשהתחילה הקורונה הלימודים עברו להיות רק בזום כ...    m      f\n",
       "77   בשנה האחרונה עברתי דירה לעיר שיש בה ים כל חיי ...    m      f\n",
       "212  לפני חצי שנה הייתי באיטליה עם המשפחה שלי זאת ה...    f      f"
      ]
     },
     "execution_count": 29,
     "metadata": {},
     "output_type": "execute_result"
    },
    {
     "name": "stdout",
     "output_type": "stream",
     "text": [
      "Weighted F1-score for TFIDF_Vectorizer: 0.77\n"
     ]
    },
    {
     "data": {
      "text/plain": [
       "SGDClassifier(alpha=0.0001, average=False, class_weight=None,\n",
       "              early_stopping=False, epsilon=0.1, eta0=0.0, fit_intercept=True,\n",
       "              l1_ratio=0.15, learning_rate='optimal', loss='hinge',\n",
       "              max_iter=1000, n_iter_no_change=5, n_jobs=None, penalty='l2',\n",
       "              power_t=0.5, random_state=None, shuffle=True, tol=0.001,\n",
       "              validation_fraction=0.1, verbose=0, warm_start=False)"
      ]
     },
     "execution_count": 29,
     "metadata": {},
     "output_type": "execute_result"
    },
    {
     "name": "stdout",
     "output_type": "stream",
     "text": [
      "\n",
      "\n",
      "\n",
      "CountVectorizer + SGDClassifier:\n"
     ]
    },
    {
     "data": {
      "text/html": [
       "<div>\n",
       "<style scoped>\n",
       "    .dataframe tbody tr th:only-of-type {\n",
       "        vertical-align: middle;\n",
       "    }\n",
       "\n",
       "    .dataframe tbody tr th {\n",
       "        vertical-align: top;\n",
       "    }\n",
       "\n",
       "    .dataframe thead th {\n",
       "        text-align: right;\n",
       "    }\n",
       "</style>\n",
       "<table border=\"1\" class=\"dataframe\">\n",
       "  <thead>\n",
       "    <tr style=\"text-align: right;\">\n",
       "      <th></th>\n",
       "      <th>story</th>\n",
       "      <th>pred</th>\n",
       "      <th>actual</th>\n",
       "    </tr>\n",
       "  </thead>\n",
       "  <tbody>\n",
       "    <tr>\n",
       "      <th>716</th>\n",
       "      <td>יום אחד במהלך חופשת חנוכה הלכנו כמה חברים לשחק...</td>\n",
       "      <td>m</td>\n",
       "      <td>m</td>\n",
       "    </tr>\n",
       "    <tr>\n",
       "      <th>651</th>\n",
       "      <td>לפני כחצי שנה עברתי לגור בצפון עם בת זוגתי עבר...</td>\n",
       "      <td>m</td>\n",
       "      <td>m</td>\n",
       "    </tr>\n",
       "    <tr>\n",
       "      <th>371</th>\n",
       "      <td>כשהתחילה הקורונה הלימודים עברו להיות רק בזום כ...</td>\n",
       "      <td>m</td>\n",
       "      <td>f</td>\n",
       "    </tr>\n",
       "    <tr>\n",
       "      <th>77</th>\n",
       "      <td>בשנה האחרונה עברתי דירה לעיר שיש בה ים כל חיי ...</td>\n",
       "      <td>m</td>\n",
       "      <td>f</td>\n",
       "    </tr>\n",
       "    <tr>\n",
       "      <th>212</th>\n",
       "      <td>לפני חצי שנה הייתי באיטליה עם המשפחה שלי זאת ה...</td>\n",
       "      <td>m</td>\n",
       "      <td>f</td>\n",
       "    </tr>\n",
       "  </tbody>\n",
       "</table>\n",
       "</div>"
      ],
      "text/plain": [
       "                                                 story pred actual\n",
       "716  יום אחד במהלך חופשת חנוכה הלכנו כמה חברים לשחק...    m      m\n",
       "651  לפני כחצי שנה עברתי לגור בצפון עם בת זוגתי עבר...    m      m\n",
       "371  כשהתחילה הקורונה הלימודים עברו להיות רק בזום כ...    m      f\n",
       "77   בשנה האחרונה עברתי דירה לעיר שיש בה ים כל חיי ...    m      f\n",
       "212  לפני חצי שנה הייתי באיטליה עם המשפחה שלי זאת ה...    m      f"
      ]
     },
     "execution_count": 29,
     "metadata": {},
     "output_type": "execute_result"
    },
    {
     "name": "stdout",
     "output_type": "stream",
     "text": [
      "Weighted F1-score for CountVectorizer: 0.73\n"
     ]
    }
   ],
   "source": [
    "# This cell do the last proccess and model create & fit.\n",
    "# I will try both TfidfVectorizer and CountVectorizer.\n",
    "# I will print the head of the predictions for each vectorizer and the f1-score to compare.\n",
    "#\n",
    "# Current Cell Algorithm: SGDClassifier\n",
    "\n",
    "X_train_TFIDF = TFIDF_Vectorizer.fit_transform(X_train)\n",
    "X_test_TFIDF = TFIDF_Vectorizer.transform(X_test)\n",
    "\n",
    "X_train_CV = CV_Vectorizer.fit_transform(X_train)\n",
    "X_test_CV = CV_Vectorizer.transform(X_test)\n",
    "\n",
    "model = SGDClassifier()\n",
    "\n",
    "#TFIDF\n",
    "model.fit(X_train_TFIDF, y_train)\n",
    "y_pred = model.predict(X_test_TFIDF)\n",
    "df_prediction = pd.DataFrame({\"story\":X_test, \"pred\":y_pred, \"actual\":y_test})\n",
    "print(\"\\n\\n\\nTFIDF_Vectorizer + SGDClassifier:\")\n",
    "df_prediction.head()\n",
    "f1 = f1_score(y_test, y_pred, average='weighted')\n",
    "print(f'Weighted F1-score for TFIDF_Vectorizer: {f1:.2f}')\n",
    "\n",
    "#CV\n",
    "model.fit(X_train_CV, y_train)\n",
    "y_pred = model.predict(X_test_CV)\n",
    "df_prediction = pd.DataFrame({\"story\":X_test, \"pred\":y_pred, \"actual\":y_test})\n",
    "print(\"\\n\\n\\nCountVectorizer + SGDClassifier:\")\n",
    "df_prediction.head()\n",
    "f1 = f1_score(y_test, y_pred, average='weighted')\n",
    "print(f'Weighted F1-score for CountVectorizer: {f1:.2f}')"
   ]
  },
  {
   "cell_type": "code",
   "execution_count": 30,
   "metadata": {},
   "outputs": [
    {
     "data": {
      "text/plain": [
       "Perceptron(alpha=0.0001, class_weight=None, early_stopping=False, eta0=1.0,\n",
       "           fit_intercept=True, max_iter=1000, n_iter_no_change=5, n_jobs=None,\n",
       "           penalty=None, random_state=0, shuffle=True, tol=0.001,\n",
       "           validation_fraction=0.1, verbose=0, warm_start=False)"
      ]
     },
     "execution_count": 30,
     "metadata": {},
     "output_type": "execute_result"
    },
    {
     "data": {
      "text/html": [
       "<div>\n",
       "<style scoped>\n",
       "    .dataframe tbody tr th:only-of-type {\n",
       "        vertical-align: middle;\n",
       "    }\n",
       "\n",
       "    .dataframe tbody tr th {\n",
       "        vertical-align: top;\n",
       "    }\n",
       "\n",
       "    .dataframe thead th {\n",
       "        text-align: right;\n",
       "    }\n",
       "</style>\n",
       "<table border=\"1\" class=\"dataframe\">\n",
       "  <thead>\n",
       "    <tr style=\"text-align: right;\">\n",
       "      <th></th>\n",
       "      <th>test_example_id</th>\n",
       "      <th>predicted_category</th>\n",
       "    </tr>\n",
       "  </thead>\n",
       "  <tbody>\n",
       "    <tr>\n",
       "      <th>0</th>\n",
       "      <td>0</td>\n",
       "      <td>m</td>\n",
       "    </tr>\n",
       "    <tr>\n",
       "      <th>1</th>\n",
       "      <td>1</td>\n",
       "      <td>m</td>\n",
       "    </tr>\n",
       "    <tr>\n",
       "      <th>2</th>\n",
       "      <td>2</td>\n",
       "      <td>m</td>\n",
       "    </tr>\n",
       "    <tr>\n",
       "      <th>3</th>\n",
       "      <td>3</td>\n",
       "      <td>m</td>\n",
       "    </tr>\n",
       "    <tr>\n",
       "      <th>4</th>\n",
       "      <td>4</td>\n",
       "      <td>f</td>\n",
       "    </tr>\n",
       "  </tbody>\n",
       "</table>\n",
       "</div>"
      ],
      "text/plain": [
       "   test_example_id predicted_category\n",
       "0                0                  m\n",
       "1                1                  m\n",
       "2                2                  m\n",
       "3                3                  m\n",
       "4                4                  f"
      ]
     },
     "execution_count": 30,
     "metadata": {},
     "output_type": "execute_result"
    }
   ],
   "source": [
    "# Summary:\n",
    "# The model with the highest f1-score is 'TFIDF_Vectorizer + Perceptron' with Weighted F1-score for = 78%.\n",
    "# Now lets predict the df_test:\n",
    "\n",
    "all_stories_test = [] # Preproccessing again for new input :)\n",
    "for story in df_test['story']:\n",
    "    tokens = ht.tokenize(story)\n",
    "    hebrew_tokens = [token for grp, token, _, _ in tokens if grp == 'HEBREW']\n",
    "    curr_story = ' '.join(hebrew_tokens)\n",
    "    all_stories_test.append(curr_story)\n",
    "df_test['story'] = all_stories_test # Update Clean Stories.\n",
    "\n",
    "model = Perceptron() # Update for our best model we got before.\n",
    "model.fit(X_train_TFIDF,y_train) \n",
    "y_test_tfidf = TFIDF_Vectorizer.transform(df_test.story) # Vectorize the data we want to predict.\n",
    "y_predicted = model.predict(y_test_tfidf) # Prediction \n",
    "df_predicted = pd.DataFrame({\"test_example_id\":df_test.test_example_id, \"predicted_category\":y_predicted})\n",
    "df_predicted.head()"
   ]
  },
  {
   "cell_type": "markdown",
   "metadata": {},
   "source": [
    "### Save output to csv (optional)\n",
    "After you're done save your output to the 'classification_results.csv' csv file.<br/>\n",
    "We assume that the dataframe with your results contain the following columns:\n",
    "* column 1 (left column): 'test_example_id'  - the same id associated to each of the test stories to be predicted.\n",
    "* column 2 (right column): 'predicted_category' - the predicted gender value for each of the associated story. \n",
    "\n",
    "Assuming your predicted values are in the `df_predicted` dataframe, you should save you're results as following:"
   ]
  },
  {
   "cell_type": "code",
   "execution_count": 31,
   "metadata": {},
   "outputs": [],
   "source": [
    "df_predicted.to_csv('classification_results.csv',index=False)"
   ]
  },
  {
   "cell_type": "code",
   "execution_count": 17,
   "metadata": {},
   "outputs": [
    {
     "data": {
      "image/png": "[encoded data removed]",
      "text/plain": [
       "<Figure size 576x432 with 1 Axes>"
      ]
     },
     "metadata": {
      "needs_background": "light"
     },
     "output_type": "display_data"
    }
   ],
   "source": [
    "def plot_name_id(name, id):\n",
    "    fig, ax = plt.subplots(figsize=(8, 6))\n",
    "    ax.text(0.6, 0.6, name, fontsize=70, color='#28B463', ha='center')\n",
    "    ax.text(0.5, 0.4, f\"ID: {id}\", fontsize=40, color='#3498DB', ha='center')\n",
    "    ax.axis('off')\n",
    "    plt.show()\n",
    "\n",
    "# Your name and ID\n",
    "name = \"Sahar Yehezkel Poor\"\n",
    "id = \"318193372\"\n",
    "\n",
    "# Create the plot\n",
    "plot_name_id(name, id)\n"
   ]
  }
 ],
 "metadata": {
  "celltoolbar": "Create Assignment",
  "kernelspec": {
   "display_name": "Python 3",
   "language": "python",
   "name": "python3"
  },
  "language_info": {
   "codemirror_mode": {
    "name": "ipython",
    "version": 3
   },
   "file_extension": ".py",
   "mimetype": "text/x-python",
   "name": "python",
   "nbconvert_exporter": "python",
   "pygments_lexer": "ipython3",
   "version": "3.7.3"
  }
 },
 "nbformat": 4,
 "nbformat_minor": 4
}
